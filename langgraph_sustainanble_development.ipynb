{
  "cells": [
    {
      "cell_type": "code",
      "execution_count": null,
      "metadata": {
        "id": "4nAd0K5yOAPP"
      },
      "outputs": [],
      "source": [
        "%pip install -U --quiet langchain-google-genai langchainhub langgraph google-ai-generativelanguage==0.6.15"
      ]
    },
    {
      "cell_type": "code",
      "execution_count": null,
      "metadata": {
        "id": "OYItAbnaPA6f"
      },
      "outputs": [],
      "source": [
        "import os\n",
        "import getpass\n",
        "from langgraph.graph import StateGraph,END\n",
        "from langchain_google_genai import ChatGoogleGenerativeAI\n",
        "from langchain_core.messages import HumanMessage"
      ]
    },
    {
      "cell_type": "code",
      "execution_count": null,
      "metadata": {
        "colab": {
          "base_uri": "https://localhost:8080/"
        },
        "id": "Od9CLvABPmu_",
        "outputId": "cb135c59-cf4e-40f2-8b53-019d0e2fb806"
      },
      "outputs": [
        {
          "name": "stdout",
          "output_type": "stream",
          "text": [
            "Enter the gemini Gemini API key: ··········\n"
          ]
        }
      ],
      "source": [
        "os.environ['GOOGLE_API_KEY']=getpass.getpass(\"Enter the gemini Gemini API key: \")"
      ]
    },
    {
      "cell_type": "code",
      "execution_count": null,
      "metadata": {
        "id": "Gc_iwr_RQK3Q"
      },
      "outputs": [],
      "source": [
        "llm=ChatGoogleGenerativeAI(model=\"models/gemini-1.5-flash-latest\",temperature=0.2)"
      ]
    },
    {
      "cell_type": "code",
      "execution_count": null,
      "metadata": {
        "id": "fJiMKo1vQ3EI"
      },
      "outputs": [],
      "source": [
        "def get_input(state:dict)->dict:\n",
        "  val=input(\"Enter input:\")\n",
        "  state[\"val\"]=val\n",
        "  return state"
      ]
    },
    {
      "cell_type": "code",
      "execution_count": null,
      "metadata": {
        "id": "5_7MFQ9HSqah"
      },
      "outputs": [],
      "source": [
        "def input_classifier(state:dict)->dict:\n",
        "  prompt=(\n",
        "      f\"Classify the given input {state['val']} into one of the categories: \\n1.Product (e.g., plastic bottle)\\n2.Activity (e.g., long showers)\\n3.Transport (e.g., daily car commute)\\n4.Energy use (e.g., incandescent bulbs)Respond only with\"f\" one word, Product,Activity,Energy use,Transport\")\n",
        "  response=llm.invoke([HumanMessage(content=prompt)])\n",
        "  category=response.content.strip()\n",
        "  print(f\"Category is {category}\")\n",
        "  state[\"category\"]=category.lower()\n",
        "  return state"
      ]
    },
    {
      "cell_type": "code",
      "execution_count": null,
      "metadata": {
        "id": "HvkAS9kTT-dd"
      },
      "outputs": [],
      "source": [
        "def input_router(state:dict)->dict:\n",
        "    cat=state[\"category\"]\n",
        "    print(cat)\n",
        "    if(\"product\" in cat ):\n",
        "        return \"Product\"\n",
        "    elif(\"activity\" in cat ):\n",
        "        return \"Activity\"\n",
        "    elif(\"transport\" in cat ):\n",
        "        return \"Transport\"\n",
        "    elif(\"energy use\" in cat):\n",
        "      return \"Energy use\"\n",
        "    else:\n",
        "        print(\"Try Again\")"
      ]
    },
    {
      "cell_type": "code",
      "execution_count": null,
      "metadata": {
        "id": "RvuOXPGIUvhE"
      },
      "outputs": [],
      "source": [
        "def impact_assessor(state:dict)->dict:\n",
        "  prompt=(\n",
        "      f\"Give a couple of the environmental impacts of using {state['val']} \")\n",
        "  response=llm.invoke([HumanMessage(content=prompt)])\n",
        "  res1=response.content.strip()\n",
        "  print(f\"{res1}\")\n",
        "  #print(type(state))\n",
        "  state[\"res1\"]=res1\n",
        "  return state"
      ]
    },
    {
      "cell_type": "code",
      "execution_count": null,
      "metadata": {
        "id": "4ZyppUXjZ41N"
      },
      "outputs": [],
      "source": [
        "def alternative(state:dict)->dict:\n",
        "  prompt=(\n",
        "      f\"Give a couple of environmental friendly alternatives for {state['val']} \")\n",
        "  response=llm.invoke([HumanMessage(content=prompt)])\n",
        "  res=response.content.strip()\n",
        "  print(f\"{res}\")\n",
        "  state[\"res\"]=res\n",
        "  return state"
      ]
    },
    {
      "cell_type": "code",
      "execution_count": null,
      "metadata": {
        "colab": {
          "base_uri": "https://localhost:8080/"
        },
        "id": "Q05EQGS_aJVr",
        "outputId": "cac57c46-2a79-478b-8351-f97b992c505e"
      },
      "outputs": [
        {
          "data": {
            "text/plain": [
              "<langgraph.graph.state.StateGraph at 0x7fe95b9f5c10>"
            ]
          },
          "execution_count": 121,
          "metadata": {},
          "output_type": "execute_result"
        }
      ],
      "source": [
        "builder=StateGraph(dict)\n",
        "builder.set_entry_point(\"get_input\")\n",
        "builder.add_node(\"get_input\",get_input)\n",
        "builder.add_node(\"input_classifier\",input_classifier)\n",
        "builder.add_node(\"input_router\",input_router)\n",
        "builder.add_node(\"impact_assessor\",impact_assessor)\n",
        "builder.add_node(\"alternative\",alternative)\n",
        "\n",
        "builder.add_edge(\"get_input\",\"input_classifier\")\n",
        "builder.add_edge(\"input_classifier\",\"impact_assessor\")\n",
        "#builder.add_edge(\"input_router\",\"impact_assessor\")\n",
        "builder.add_edge(\"impact_assessor\",\"alternative\")\n",
        "builder.add_edge(\"alternative\",END)"
      ]
    },
    {
      "cell_type": "code",
      "execution_count": null,
      "metadata": {
        "colab": {
          "base_uri": "https://localhost:8080/"
        },
        "id": "0AJBmSkOcZiG",
        "outputId": "42d70dac-5a7b-4e58-83b3-a3dc0c64a016"
      },
      "outputs": [
        {
          "name": "stdout",
          "output_type": "stream",
          "text": [
            "Enter input:coal combustion\n",
            "Category is Energy use\n",
            "Coal combustion has significant environmental impacts, including:\n",
            "\n",
            "1. **Greenhouse gas emissions:**  Burning coal releases large amounts of carbon dioxide (CO2), a major greenhouse gas contributing to climate change.  This is because coal is primarily carbon, and combustion combines it with oxygen from the air to form CO2.  The release of CO2 traps heat in the atmosphere, leading to global warming and its associated effects like sea-level rise, extreme weather events, and disruptions to ecosystems.\n",
            "\n",
            "2. **Air pollution:** Coal combustion releases various air pollutants, including sulfur dioxide (SO2), nitrogen oxides (NOx), particulate matter (PM), and mercury.  These pollutants contribute to acid rain, respiratory illnesses, and other health problems.  Particulate matter, in particular, can penetrate deep into the lungs and cause serious health issues.  Mercury is a neurotoxin that bioaccumulates in the food chain, posing risks to wildlife and humans.\n",
            "Two environmentally friendly alternatives to coal combustion for electricity generation are:\n",
            "\n",
            "1. **Solar Power:**  Solar photovoltaic (PV) systems convert sunlight directly into electricity using solar panels.  While the manufacturing process of solar panels has an environmental footprint, their operational emissions are essentially zero, making them a much cleaner alternative to coal.  Large-scale solar farms are becoming increasingly cost-competitive with coal-fired power plants.\n",
            "\n",
            "2. **Wind Power:** Wind turbines harness the kinetic energy of wind to generate electricity.  Like solar, wind power has minimal operational emissions.  Offshore wind farms, in particular, are capable of generating large amounts of clean energy.  The environmental impact of wind power is primarily related to the manufacturing and land use (though this is significantly less than coal mining and its associated infrastructure).\n",
            "\n",
            "\n",
            "Other alternatives exist (geothermal, hydro, nuclear), but solar and wind are currently the most rapidly expanding and widely applicable replacements for coal-fired power generation on a large scale.\n"
          ]
        }
      ],
      "source": [
        "graph = builder.compile()\n",
        "final_state = graph.invoke({})\n",
        "#print(final_state)"
      ]
    }
  ],
  "metadata": {
    "colab": {
      "provenance": []
    },
    "kernelspec": {
      "display_name": "Python 3",
      "name": "python3"
    },
    "language_info": {
      "name": "python"
    }
  },
  "nbformat": 4,
  "nbformat_minor": 0
}
